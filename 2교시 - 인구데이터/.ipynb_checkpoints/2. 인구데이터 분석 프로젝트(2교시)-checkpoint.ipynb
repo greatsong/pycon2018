{
 "cells": [
  {
   "cell_type": "markdown",
   "metadata": {},
   "source": [
    "## [ 프로젝트 2 - 인구데이터 분석 ]\n",
    "### 0) 데이터 불러오기"
   ]
  },
  {
   "cell_type": "code",
   "execution_count": null,
   "metadata": {
    "collapsed": false
   },
   "outputs": [],
   "source": [
    "import csv\n",
    "f = open('age.csv', encoding = 'cp949')\n",
    "\n",
    "data = csv.reader(f)\n",
    "for row in data :\n",
    "    print(row)"
   ]
  },
  {
   "cell_type": "markdown",
   "metadata": {},
   "source": [
    "### 1) 우리 동네의 인구 구조 시각화하기"
   ]
  },
  {
   "cell_type": "code",
   "execution_count": null,
   "metadata": {
    "collapsed": false
   },
   "outputs": [],
   "source": [
    "import csv\n",
    "f = open('age.csv', encoding = 'cp949')\n",
    "\n",
    "data = csv.reader(f)\n",
    "result = []\n",
    "for row in data :\n",
    "    if '신도림' in row[0] :\n",
    "        for i in range(3,len(row)) : \n",
    "            result.append(int(row[i]))\n",
    "            \n",
    "import matplotlib.pyplot as plt\n",
    "plt.style.use('ggplot')\n",
    "plt.figure(figsize = (10,5), dpi=300)            \n",
    "plt.plot(result)\n",
    "plt.show()"
   ]
  },
  {
   "cell_type": "markdown",
   "metadata": {},
   "source": [
    "### 2) 우리 동네의 인구 구조 시각화하기 - bar chart"
   ]
  },
  {
   "cell_type": "code",
   "execution_count": null,
   "metadata": {
    "collapsed": false
   },
   "outputs": [],
   "source": [
    "import csv\n",
    "f = open('age.csv', encoding = 'cp949')\n",
    "\n",
    "data = csv.reader(f)\n",
    "result = []\n",
    "for row in data :\n",
    "    if '신도림' in row[0] :\n",
    "        for i in range(3,len(row)) : \n",
    "            result.append(int(row[i]))\n",
    "            \n",
    "import matplotlib.pyplot as plt\n",
    "plt.figure(figsize = (10,5), dpi=300)            \n",
    "plt.bar(range(len(result)), result)\n",
    "plt.show()"
   ]
  },
  {
   "cell_type": "markdown",
   "metadata": {},
   "source": [
    "### 3) 우리 동네의 인구 구조 시각화하기 - 항아리 그래프"
   ]
  },
  {
   "cell_type": "code",
   "execution_count": null,
   "metadata": {
    "collapsed": false
   },
   "outputs": [],
   "source": [
    "import csv\n",
    "f = open('gender.csv', encoding = 'cp949')\n",
    "\n",
    "data = csv.reader(f)\n",
    "m_result = []\n",
    "w_result = []\n",
    "\n",
    "name = '신도림'\n",
    "for row in data :\n",
    "    if name in row[0] :\n",
    "        for i in range(3,(len(row)-1)//2) : \n",
    "            m_result.append(-int(row[i]))\n",
    "            w_result.append(int(row[i+(len(row)-1)//2]))\n",
    "        break\n",
    "\n",
    "import matplotlib.pyplot as plt\n",
    "plt.figure(figsize = (10,5), dpi=300) \n",
    "plt.rc('font', family = 'AppleGothic')\n",
    "plt.rcParams['axes.unicode_minus'] = False\n",
    "plt.title(name + ' 지역의 성별 인구구조 그래프')\n",
    "plt.barh(range(len(m_result)),m_result, color = 'hotpink', label = '남 ')\n",
    "plt.barh(range(len(w_result)),w_result, color = 'indigo', label = '여 ')\n",
    "plt.legend()\n",
    "plt.show()"
   ]
  },
  {
   "cell_type": "markdown",
   "metadata": {},
   "source": [
    "### 4) 제주도는 여성 인구 비율이 더 높을까?"
   ]
  },
  {
   "cell_type": "code",
   "execution_count": null,
   "metadata": {
    "collapsed": false
   },
   "outputs": [],
   "source": [
    "import csv\n",
    "f = open('gender.csv', encoding = 'cp949')\n",
    "\n",
    "data = csv.reader(f)\n",
    "m_result = []\n",
    "w_result = []\n",
    "\n",
    "name = input('궁금한 동네를 입력해주세요 : ')\n",
    "for row in data :\n",
    "    if name in row[0] :\n",
    "        for i in range(3,(len(row)-1)//2) : \n",
    "            m_result.append(int(row[i]))\n",
    "            w_result.append(int(row[i+(len(row)-1)//2]))\n",
    "        break\n",
    "        \n",
    "import matplotlib.pyplot as plt\n",
    "plt.figure(figsize = (10,5), dpi=300)            \n",
    "plt.scatter(m_result, w_result)\n",
    "plt.show()"
   ]
  },
  {
   "cell_type": "markdown",
   "metadata": {},
   "source": [
    "### 4) 제주도는 여성 인구 비율이 더 높을까? - 추세선 그려주기"
   ]
  },
  {
   "cell_type": "code",
   "execution_count": null,
   "metadata": {
    "collapsed": false
   },
   "outputs": [],
   "source": [
    "import csv\n",
    "f = open('gender.csv', encoding = 'cp949')\n",
    "\n",
    "data = csv.reader(f)\n",
    "result = []\n",
    "result2 = []\n",
    "size = []\n",
    "name = input('궁금한 동네를 입력해주세요 : ')\n",
    "for row in data :\n",
    "    if name in row[0] :\n",
    "        for i in range(3,(len(row)-1)//2) : \n",
    "            result.append(int(row[i]))\n",
    "            result2.append(int(row[i+(len(row)-1)//2]))\n",
    "        break\n",
    "        \n",
    "import matplotlib.pyplot as plt\n",
    "plt.figure(figsize = (10,5), dpi=300)            \n",
    "plt.scatter(result, result2)\n",
    "plt.plot(range(max(result)),range(max(result)), 'g')\n",
    "plt.show()"
   ]
  },
  {
   "cell_type": "markdown",
   "metadata": {},
   "source": [
    "### 4) 제주도는 여성 인구 비율이 더 높을까? - 컬러맵 추가하기"
   ]
  },
  {
   "cell_type": "code",
   "execution_count": null,
   "metadata": {
    "collapsed": false
   },
   "outputs": [],
   "source": [
    "import csv\n",
    "f = open('gender.csv', encoding = 'cp949')\n",
    "data = csv.reader(f)\n",
    "m = []\n",
    "f = []\n",
    "age = []\n",
    "name = input('궁금한 동네를 입력해주세요 : ')\n",
    "for row in data :\n",
    "    if name in row[0] :\n",
    "        for i in range(3,(len(row)-1)//2) : \n",
    "            m.append(int(row[i]))\n",
    "            f.append(int(row[i+(len(row)-1)//2]))\n",
    "            age.append(i-3)\n",
    "        break\n",
    "        \n",
    "import matplotlib.pyplot as plt\n",
    "plt.style.use('ggplot')\n",
    "plt.rc('font',family='AppleGothic')\n",
    "plt.figure(figsize = (10,5), dpi=300)            \n",
    "plt.title(name+' 지역의 성별 인구 그래프')\n",
    "plt.scatter(m, f, c = age, alpha=0.5, cmap='jet')\n",
    "plt.colorbar()\n",
    "plt.plot(range(max(f)),range(max(f)), 'g')\n",
    "plt.show()"
   ]
  },
  {
   "cell_type": "markdown",
   "metadata": {},
   "source": [
    "### 5) 우리 동네와 인구구조가 가장 비슷한 지역은 어딜까?"
   ]
  },
  {
   "cell_type": "code",
   "execution_count": null,
   "metadata": {
    "collapsed": false
   },
   "outputs": [],
   "source": [
    "import csv\n",
    "import matplotlib.pyplot as plt\n",
    "plt.rc('font', family = 'AppleGothic')\n",
    "f = open('age.csv', encoding = 'cp949')\n",
    "data = csv.reader(f)\n",
    "next(data)\n",
    "data = list(data)\n",
    "pivot = []\n",
    "name = input('어떤 지역의 인구구조가 궁금하신가요? : ')\n",
    "for row in data :\n",
    "    if name in row[0] :\n",
    "        for i in range(3,len(row)) : \n",
    "            pivot.append(int(row[i])/int(row[2]))\n",
    "        break\n",
    "mn = 1\n",
    "for row in data :\n",
    "    s = 0\n",
    "    for i in range(3, len(row)) :\n",
    "        row[i] = int(row[i])/int(row[2])\n",
    "        tmp = (row[i] - pivot[i-3])\n",
    "        s = s + tmp ** 2\n",
    "    if s < mn and (name not in row[0]) :\n",
    "        result = []\n",
    "        for i in range(3, len(row)) :\n",
    "            result.append(row[i])\n",
    "        mn = s            \n",
    "        result_name = row[0]\n",
    "        \n",
    "plt.style.use('ggplot')\n",
    "plt.figure(figsize = (10,5), dpi=300)            \n",
    "plt.plot(pivot, label = name)\n",
    "plt.plot(result, label = result_name)\n",
    "plt.legend()\n",
    "plt.show()"
   ]
  },
  {
   "cell_type": "code",
   "execution_count": null,
   "metadata": {
    "collapsed": true
   },
   "outputs": [],
   "source": []
  }
 ],
 "metadata": {
  "kernelspec": {
   "display_name": "Python 3",
   "language": "python",
   "name": "python3"
  },
  "language_info": {
   "codemirror_mode": {
    "name": "ipython",
    "version": 3
   },
   "file_extension": ".py",
   "mimetype": "text/x-python",
   "name": "python",
   "nbconvert_exporter": "python",
   "pygments_lexer": "ipython3",
   "version": "3.6.0"
  }
 },
 "nbformat": 4,
 "nbformat_minor": 2
}
