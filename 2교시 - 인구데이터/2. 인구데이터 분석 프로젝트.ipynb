{
 "cells": [
  {
   "cell_type": "markdown",
   "metadata": {},
   "source": [
    "## [ 프로젝트 2 - 인구데이터 분석 ]\n",
    "### 1) 데이터 불러오기"
   ]
  },
  {
   "cell_type": "code",
   "execution_count": null,
   "metadata": {
    "collapsed": false
   },
   "outputs": [],
   "source": [
    "import csv\n",
    "f = open('읍면동연령별.csv')\n",
    "\n",
    "data = csv.reader(f)\n",
    "for row in data :\n",
    "    print(row)"
   ]
  },
  {
   "cell_type": "markdown",
   "metadata": {},
   "source": [
    "### 2) 우리 동네의 인구 구조 시각화하기"
   ]
  },
  {
   "cell_type": "code",
   "execution_count": null,
   "metadata": {
    "collapsed": false
   },
   "outputs": [],
   "source": [
    "import csv\n",
    "f = open('읍면동연령별.csv')\n",
    "\n",
    "data = csv.reader(f)\n",
    "result = []\n",
    "for row in data :\n",
    "    if '고덕제1동' in row[0] :\n",
    "        for i in range(3,len(row)) : \n",
    "            result.append(int(row[i]))\n",
    "            \n",
    "import matplotlib.pyplot as plt\n",
    "plt.plot(result)\n",
    "plt.show()"
   ]
  },
  {
   "cell_type": "markdown",
   "metadata": {},
   "source": [
    "### 3) 다른 형태로 시각화하기"
   ]
  },
  {
   "cell_type": "code",
   "execution_count": null,
   "metadata": {
    "collapsed": false
   },
   "outputs": [],
   "source": [
    "import csv\n",
    "f = open('읍면동연령별.csv')\n",
    "\n",
    "data = csv.reader(f)\n",
    "result = []\n",
    "for row in data :\n",
    "    if '고덕제1동' in row[0] :\n",
    "        for i in range(3,len(row)) : \n",
    "            result.append(int(row[i]))\n",
    "            \n",
    "import matplotlib.pyplot as plt\n",
    "plt.bar(range(len(result)), result)\n",
    "plt.show()"
   ]
  },
  {
   "cell_type": "markdown",
   "metadata": {},
   "source": [
    "### 4) 성별 인구 데이터 시각화하기"
   ]
  },
  {
   "cell_type": "code",
   "execution_count": null,
   "metadata": {
    "collapsed": false
   },
   "outputs": [],
   "source": [
    "import csv\n",
    "f = open('201805_201805_연령별성별인구현황.csv')\n",
    "\n",
    "data = csv.reader(f)\n",
    "m_result = []\n",
    "w_result = []\n",
    "\n",
    "name = '고덕제1동'\n",
    "for row in data :\n",
    "    if name in row[0] :\n",
    "        for i in range(3,(len(row)-1)//2) : \n",
    "            m_result.append(int(row[i]))\n",
    "            w_result.append(-int(row[i+(len(row)-1)//2]))\n",
    "\n",
    "import matplotlib.pyplot as plt\n",
    "\n",
    "plt.barh(range(len(w_result)),w_result, height=1, color = 'pink')\n",
    "plt.barh(range(len(m_result)),m_result, height=1, color = 'skyblue')\n",
    "plt.show()"
   ]
  },
  {
   "cell_type": "markdown",
   "metadata": {},
   "source": [
    "### 5) 다른 형태로 시각화하기"
   ]
  },
  {
   "cell_type": "code",
   "execution_count": null,
   "metadata": {
    "collapsed": false
   },
   "outputs": [],
   "source": [
    "import csv\n",
    "f = open('201805_201805_연령별성별인구현황.csv')\n",
    "\n",
    "data = csv.reader(f)\n",
    "m_result = []\n",
    "w_result = []\n",
    "\n",
    "name = input('궁금한 동네를 입력해주세요 : ')\n",
    "for row in data :\n",
    "    if name in row[0] :\n",
    "        for i in range(3,(len(row)-1)//2) : \n",
    "            m_result.append(int(row[i]))\n",
    "            w_result.append(int(row[i+(len(row)-1)//2]))\n",
    "        break\n",
    "        \n",
    "import matplotlib.pyplot as plt\n",
    "\n",
    "plt.scatter(m_result, w_result)\n",
    "plt.show()"
   ]
  },
  {
   "cell_type": "markdown",
   "metadata": {},
   "source": [
    "#### tip) 추세선 그려주기"
   ]
  },
  {
   "cell_type": "code",
   "execution_count": null,
   "metadata": {
    "collapsed": false
   },
   "outputs": [],
   "source": [
    "import csv\n",
    "f = open('201805_201805_연령별성별인구현황.csv')\n",
    "\n",
    "data = csv.reader(f)\n",
    "result = []\n",
    "result2 = []\n",
    "size = []\n",
    "name = input('궁금한 동네를 입력해주세요 : ')\n",
    "for row in data :\n",
    "    if name in row[0] :\n",
    "        for i in range(3,(len(row)-1)//2) : \n",
    "            result.append(int(row[i]))\n",
    "            result2.append(int(row[i+(len(row)-1)//2]))\n",
    "        break\n",
    "        \n",
    "import matplotlib.pyplot as plt\n",
    "\n",
    "plt.scatter(result, result2)\n",
    "plt.plot(range(max(result)),range(max(result)), 'g')\n",
    "plt.show()"
   ]
  },
  {
   "cell_type": "markdown",
   "metadata": {},
   "source": [
    "### A. (시각적 옵션을 추가한)성별 인구 그래프"
   ]
  },
  {
   "cell_type": "code",
   "execution_count": null,
   "metadata": {
    "collapsed": false
   },
   "outputs": [],
   "source": [
    "import csv\n",
    "f = open('201805_201805_연령별성별인구현황.csv')\n",
    "data = csv.reader(f)\n",
    "result = []\n",
    "result2 = []\n",
    "age = []\n",
    "name = input('궁금한 동네를 입력해주세요 : ')\n",
    "for row in data :\n",
    "    if name in row[0] :\n",
    "        for i in range(3,(len(row)-1)//2) : \n",
    "            result.append(int(row[i]))\n",
    "            result2.append(int(row[i+(len(row)-1)//2]))\n",
    "            age.append((i-3))\n",
    "        break\n",
    "        \n",
    "import matplotlib.pyplot as plt\n",
    "plt.style.use('ggplot')\n",
    "plt.rc('font',family='Malgun Gothic')\n",
    "plt.figure(dpi=300)\n",
    "plt.title(name+' 지역의 성별 인구 그래프')\n",
    "plt.scatter(result, result2, c = age, alpha=0.5, cmap='jet')\n",
    "plt.colorbar()\n",
    "plt.plot(range(max(result)),range(max(result)), 'g')\n",
    "plt.show()"
   ]
  },
  {
   "cell_type": "markdown",
   "metadata": {},
   "source": [
    "### B. (함수를 사용하여 x축 수치를 보정한)성별 분포 그래프"
   ]
  },
  {
   "cell_type": "code",
   "execution_count": null,
   "metadata": {
    "collapsed": false
   },
   "outputs": [],
   "source": [
    "import csv\n",
    "f = open('201805_201805_연령별성별인구현황.csv')\n",
    "\n",
    "data = csv.reader(f)\n",
    "m_result = []\n",
    "w_result = []\n",
    "\n",
    "name = input('궁금한 동네를 입력해주세요 : ')\n",
    "for row in data :\n",
    "    if name in row[0] :\n",
    "        for i in range(3,(len(row)-1)//2) : \n",
    "            m_result.append(int(row[i]))\n",
    "            w_result.append(-int(row[i+(len(row)-1)//2]))\n",
    "        break\n",
    "        \n",
    "mm = max(m_result)      \n",
    "wm = -min(w_result)      \n",
    "\n",
    "import matplotlib.pyplot as plt\n",
    "plt.style.use('ggplot')\n",
    "plt.rc('font',family='Malgun Gothic')\n",
    "plt.figure(dpi=300)\n",
    "plt.rcParams['axes.unicode_minus'] = False\n",
    "plt.title(name+' 지역의 인구구조 그래프')\n",
    "plt.barh(range(len(m_result)),w_result, height=1, label = '여 ')\n",
    "plt.barh(range(len(m_result)),m_result, height=1, label = '남 ')\n",
    "\n",
    "def no_change(n) :\n",
    "    len_n = len(str(n)) - 2\n",
    "    for i in range(n, n*2) :\n",
    "        if str(i)[-(len_n):] == '0'*len_n :\n",
    "            return i\n",
    "        \n",
    "wm = no_change(wm)    \n",
    "mm = no_change(mm)\n",
    "plt.xticks(range(-wm,mm+1,(wm+mm)//10), (list(range(wm,0,-1))+list(range(0,mm+1)))[::(wm+mm)//10])\n",
    "plt.legend()\n",
    "plt.show()"
   ]
  },
  {
   "cell_type": "markdown",
   "metadata": {},
   "source": [
    "### C. (간단한 알고리즘이 적용된)인구구조가 비슷한 지역을 알려주는 그래프"
   ]
  },
  {
   "cell_type": "code",
   "execution_count": null,
   "metadata": {
    "collapsed": false
   },
   "outputs": [],
   "source": [
    "import csv\n",
    "import matplotlib.pyplot as plt\n",
    "plt.rc('font', family = 'Malgun Gothic')\n",
    "f = open('읍면동연령별.csv')\n",
    "data = csv.reader(f)\n",
    "next(data)\n",
    "data = list(data)\n",
    "pivot = []\n",
    "name = input('어떤 지역의 인구구조가 궁금하신가요? : ')\n",
    "for row in data :\n",
    "    if name in row[0] :\n",
    "        for i in range(3,len(row)) : \n",
    "            pivot.append(int(row[i])/int(row[2]))\n",
    "        break\n",
    "mn = 1\n",
    "for row in data :\n",
    "    s = 0\n",
    "    for i in range(3, len(row)) :\n",
    "        row[i] = int(row[i])/int(row[2])\n",
    "        tmp = (row[i] - pivot[i-3])\n",
    "        s = s + tmp\n",
    "    if s < mn and (name not in row[0]) :\n",
    "        result = []\n",
    "        for i in range(3, len(row)) :\n",
    "            result.append(row[i])\n",
    "        mn = s            \n",
    "        result_name = row[0]\n",
    "        \n",
    "plt.style.use('ggplot')\n",
    "plt.figure(dpi=300)            \n",
    "plt.plot(pivot, label = name)\n",
    "plt.plot(result, label = result_name)\n",
    "plt.legend()\n",
    "plt.show()"
   ]
  },
  {
   "cell_type": "code",
   "execution_count": null,
   "metadata": {
    "collapsed": true
   },
   "outputs": [],
   "source": []
  }
 ],
 "metadata": {
  "kernelspec": {
   "display_name": "Python 3",
   "language": "python",
   "name": "python3"
  },
  "language_info": {
   "codemirror_mode": {
    "name": "ipython",
    "version": 3
   },
   "file_extension": ".py",
   "mimetype": "text/x-python",
   "name": "python",
   "nbconvert_exporter": "python",
   "pygments_lexer": "ipython3",
   "version": "3.6.0"
  }
 },
 "nbformat": 4,
 "nbformat_minor": 2
}
