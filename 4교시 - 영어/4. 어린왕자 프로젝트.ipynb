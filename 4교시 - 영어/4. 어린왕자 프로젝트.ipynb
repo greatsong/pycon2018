{
 "cells": [
  {
   "cell_type": "markdown",
   "metadata": {},
   "source": [
    "### #1. 딕셔너리를 활용해 단어 빈도 조사"
   ]
  },
  {
   "cell_type": "code",
   "execution_count": null,
   "metadata": {
    "colab": {
     "autoexec": {
      "startup": false,
      "wait_interval": 0
     },
     "base_uri": "https://localhost:8080/",
     "height": 237
    },
    "colab_type": "code",
    "executionInfo": {
     "elapsed": 736,
     "status": "error",
     "timestamp": 1519968752149,
     "user": {
      "displayName": "Song Sukree",
      "photoUrl": "//lh6.googleusercontent.com/-nl1P2bIgjO4/AAAAAAAAAAI/AAAAAAAAJAY/chhU_TyZjOs/s50-c-k-no/photo.jpg",
      "userId": "107801588019081221306"
     },
     "user_tz": -540
    },
    "id": "J8Zb9ZumFVik",
    "outputId": "6a73b535-404f-4daa-d4e3-3465beefbcf7"
   },
   "outputs": [],
   "source": [
    "fhand = open('thelittleprince.txt')\n",
    "\n",
    "counts = {}\n",
    "for line in fhand:\n",
    "    words = line.split()\n",
    "    for word in words:\n",
    "        if word not in counts:\n",
    "            counts[word] = 1\n",
    "        else:\n",
    "            counts[word] = counts[word] + 1\n",
    "\n",
    "print(counts)"
   ]
  },
  {
   "cell_type": "markdown",
   "metadata": {
    "colab_type": "text",
    "id": "Rx0yKqwDSd8P"
   },
   "source": [
    "### #2. 소문자로 통일, 구두점 제거"
   ]
  },
  {
   "cell_type": "code",
   "execution_count": null,
   "metadata": {
    "colab": {
     "autoexec": {
      "startup": false,
      "wait_interval": 0
     }
    },
    "colab_type": "code",
    "id": "dzUBIN9LFVi5",
    "outputId": "cec60b79-8dce-4237-b8ca-50f045931779"
   },
   "outputs": [],
   "source": [
    "import string\n",
    "\n",
    "fhand = open('thelittleprince.txt')\n",
    "\n",
    "counts = dict()\n",
    "for line in fhand:\n",
    "    line = line.rstrip()\n",
    "    line = line.translate(line.maketrans('', '', string.punctuation))\n",
    "    line = line.lower()\n",
    "    words = line.split()\n",
    "    for word in words:\n",
    "        if word not in counts:\n",
    "            counts[word] = 1\n",
    "        else:\n",
    "            counts[word] += 1\n",
    "\n",
    "print(counts)"
   ]
  },
  {
   "cell_type": "markdown",
   "metadata": {},
   "source": [
    "### #3. 빈도에 따라 정렬"
   ]
  },
  {
   "cell_type": "code",
   "execution_count": null,
   "metadata": {
    "colab": {
     "autoexec": {
      "startup": false,
      "wait_interval": 0
     }
    },
    "colab_type": "code",
    "id": "sqcYpfxRFVjP",
    "outputId": "3114f7b2-98e7-42b5-c4bd-156cad5d7727"
   },
   "outputs": [],
   "source": [
    "import operator\n",
    "import string\n",
    "\n",
    "#1. 어린왕자 텍스트 파일을 읽어와서 단어가 등장하는 횟수 카운트(counts 딕셔너리에 저장)\n",
    "fhand = open('thelittleprince.txt')\n",
    "\n",
    "counts = dict()\n",
    "for line in fhand:\n",
    "    line = line.rstrip()\n",
    "    line = line.translate(line.maketrans('', '', string.punctuation))\n",
    "    line = line.lower()\n",
    "    words = line.split()\n",
    "    for word in words:\n",
    "        if word not in counts:\n",
    "            counts[word] = 1\n",
    "        else:\n",
    "            counts[word] += 1\n",
    "\n",
    "#2. counts 딕셔너리의 등장 횟수 '값'에 따라 정렬\n",
    "sorted_counts = sorted(counts.items(), key=operator.itemgetter(1), reverse = True) \n",
    "\n",
    "print(sorted_counts[:50])"
   ]
  },
  {
   "cell_type": "markdown",
   "metadata": {},
   "source": [
    "### 4. 단어 크롤링 및 csv 파일에 저장하기"
   ]
  },
  {
   "cell_type": "code",
   "execution_count": null,
   "metadata": {},
   "outputs": [],
   "source": [
    "#3. 정렬된 단어를 하나씩 가져와서 네이버 영어사전에서 뜻을 크롤링\n",
    "import urllib.request\n",
    "from bs4 import BeautifulSoup\n",
    "counts2 = {}\n",
    "\n",
    "def f_word(find_word) :\n",
    "    url = urllib.request.Request(\"http://m.endic.naver.com/search.nhn?searchOption=all&query=\" + find_word)\n",
    "    data = urllib.request.urlopen(url).read().decode()\n",
    "    bs = BeautifulSoup(data,'lxml') \n",
    "    word = bs.find_all('span',attrs={'class':'fnt_k05'})\n",
    "    return word\n",
    "\n",
    "#4. 크롤링한 결과를 csv 파일에 출력\n",
    "import csv    \n",
    "f = open('wordbook.csv', 'w', encoding='utf-8', newline='')\n",
    "w = csv.writer(f)\n",
    "\n",
    "for i, j in sorted_counts[:100] :\n",
    "    result=[]\n",
    "    if len(i) > 4 :\n",
    "        counts2[i] = j\n",
    "        result.append(i)\n",
    "        for k in f_word(i) :\n",
    "            result.append(k.text)\n",
    "        w.writerow(result)\n",
    "            \n",
    "f.close()"
   ]
  },
  {
   "cell_type": "markdown",
   "metadata": {},
   "source": [
    "### 5. 최종 완성 코드"
   ]
  },
  {
   "cell_type": "code",
   "execution_count": null,
   "metadata": {
    "collapsed": true
   },
   "outputs": [],
   "source": [
    "import operator\n",
    "import string\n",
    "\n",
    "#1. 어린왕자 텍스트 파일을 읽어와서 단어가 등장하는 횟수 카운트(counts 딕셔너리에 저장)\n",
    "fhand = open('thelittleprince.txt')\n",
    "\n",
    "counts = dict()\n",
    "for line in fhand:\n",
    "    line = line.rstrip()\n",
    "    line = line.translate(line.maketrans('', '', string.punctuation))\n",
    "    line = line.lower()\n",
    "    words = line.split()\n",
    "    for word in words:\n",
    "        if word not in counts:\n",
    "            counts[word] = 1\n",
    "        else:\n",
    "            counts[word] += 1\n",
    "\n",
    "#2. counts 딕셔너리의 등장 횟수 '값'에 따라 정렬\n",
    "sorted_counts = sorted(counts.items(), key=operator.itemgetter(1), reverse = True) \n",
    "\n",
    "print(sorted_counts[:50])\n",
    "\n",
    "#3. 정렬된 단어를 하나씩 가져와서 네이버 영어사전에서 뜻을 크롤링\n",
    "import urllib.request\n",
    "from bs4 import BeautifulSoup\n",
    "counts2 = {}\n",
    "\n",
    "def f_word(find_word) :\n",
    "    url = urllib.request.Request(\"http://m.endic.naver.com/search.nhn?searchOption=all&query=\" + find_word)\n",
    "    data = urllib.request.urlopen(url).read().decode()\n",
    "    bs = BeautifulSoup(data,'lxml') \n",
    "    word = bs.find_all('span',attrs={'class':'fnt_k05'})\n",
    "    return word\n",
    "\n",
    "#4. 크롤링한 결과를 csv 파일에 출력\n",
    "import csv    \n",
    "f = open('test_dict.csv', 'w', encoding='utf-8', newline='')\n",
    "w = csv.writer(f)\n",
    "\n",
    "for i, j in sorted_counts[:100] :\n",
    "    result=[]\n",
    "    if len(i) > 4 :\n",
    "        counts2[i] = j\n",
    "        result.append(i)\n",
    "        for k in f_word(i) :\n",
    "            result.append(k.text)\n",
    "        w.writerow(result)\n",
    "            \n",
    "f.close()"
   ]
  },
  {
   "cell_type": "markdown",
   "metadata": {},
   "source": [
    "### 6. 보너스) pip install wordcloud (pip 최신 버전 필요)"
   ]
  },
  {
   "cell_type": "code",
   "execution_count": null,
   "metadata": {
    "colab": {
     "autoexec": {
      "startup": false,
      "wait_interval": 0
     }
    },
    "colab_type": "code",
    "id": "W_D3Co0KFVja",
    "outputId": "c7790f4e-e741-4166-ab3b-6883b7878f38"
   },
   "outputs": [],
   "source": [
    "from os import path\n",
    "from PIL import Image\n",
    "import numpy as np\n",
    "import matplotlib.pyplot as plt\n",
    "\n",
    "from wordcloud import WordCloud, STOPWORDS, ImageColorGenerator\n",
    "\n",
    "text = open(path.join('thelittleprince.txt')).read()\n",
    "\n",
    "alice_coloring = np.array(Image.open(path.join(\"prince.png\")))\n",
    "stopwords = set(STOPWORDS)\n",
    "stopwords.add(\"chapter\")\n",
    "\n",
    "wc = WordCloud(background_color=\"white\", max_words=3000, mask=alice_coloring,\n",
    "               stopwords=stopwords, max_font_size=300, random_state=500)\n",
    "\n",
    "wc.generate(text)\n",
    "\n",
    "# create coloring from image\n",
    "image_colors = ImageColorGenerator(alice_coloring)\n",
    "\n",
    "# show\n",
    "plt.figure(figsize=(20,10))\n",
    "plt.imshow(wc, interpolation=\"bilinear\")\n",
    "plt.axis(\"off\")\n",
    "plt.savefig('little180809.png', dpi = 100)\n",
    "plt.show()"
   ]
  }
 ],
 "metadata": {
  "colab": {
   "default_view": {},
   "name": "4) 어린왕자 프로젝트.ipynb",
   "provenance": [],
   "version": "0.3.2",
   "views": {}
  },
  "kernelspec": {
   "display_name": "Python 3",
   "language": "python",
   "name": "python3"
  },
  "language_info": {
   "codemirror_mode": {
    "name": "ipython",
    "version": 3
   },
   "file_extension": ".py",
   "mimetype": "text/x-python",
   "name": "python",
   "nbconvert_exporter": "python",
   "pygments_lexer": "ipython3",
   "version": "3.6.3"
  }
 },
 "nbformat": 4,
 "nbformat_minor": 1
}
