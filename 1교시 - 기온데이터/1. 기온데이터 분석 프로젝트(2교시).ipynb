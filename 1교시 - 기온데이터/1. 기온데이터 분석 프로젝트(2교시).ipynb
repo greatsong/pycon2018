{
 "cells": [
  {
   "cell_type": "markdown",
   "metadata": {},
   "source": [
    "## [ 프로젝트 1 - 기온데이터 분석 ]\n",
    "### 0) 데이터 불러오기"
   ]
  },
  {
   "cell_type": "code",
   "execution_count": null,
   "metadata": {
    "collapsed": false
   },
   "outputs": [],
   "source": [
    "import csv\n",
    "f = open('seoul.csv')\n",
    "data = csv.reader(f)\n",
    "next(data)\n",
    "\n",
    "for row in data :\n",
    "    print(row)\n",
    "    break"
   ]
  },
  {
   "cell_type": "markdown",
   "metadata": {},
   "source": [
    "#### tip1) split 함수 : 원하는 문자를 기준으로 문자열을 나누어 리스트로 만들어줌"
   ]
  },
  {
   "cell_type": "code",
   "execution_count": null,
   "metadata": {
    "collapsed": false
   },
   "outputs": [],
   "source": [
    "s = '2018 python conference'\n",
    "print(s.split())"
   ]
  },
  {
   "cell_type": "code",
   "execution_count": null,
   "metadata": {
    "collapsed": false
   },
   "outputs": [],
   "source": [
    "date = '1907-10-01'\n",
    "split_date = date.split('-')\n",
    "print(split_date[2])"
   ]
  },
  {
   "cell_type": "markdown",
   "metadata": {},
   "source": [
    "#### tip2) plot 함수 : 데이터를 꺽은선 그래프로 표현해줌"
   ]
  },
  {
   "cell_type": "code",
   "execution_count": null,
   "metadata": {
    "collapsed": false
   },
   "outputs": [],
   "source": [
    "import matplotlib.pyplot as plt\n",
    "plt.plot([1,2,3,40])\n",
    "plt.show()"
   ]
  },
  {
   "cell_type": "markdown",
   "metadata": {},
   "source": [
    "### 1) 모든 최고 기온을 그래프로 그리면 지구온난화를 확인할 수 있을까?"
   ]
  },
  {
   "cell_type": "code",
   "execution_count": null,
   "metadata": {
    "collapsed": false
   },
   "outputs": [],
   "source": [
    "import csv\n",
    "# 기온 데이터 읽어오기\n",
    "f = open('seoul.csv')\n",
    "data = csv.reader(f)\n",
    "next(data) # 헤더 부분 skip\n",
    "\n",
    "temp = [] # 기온 데이터 저장할 리스트\n",
    "for row in data :\n",
    "    # 최고기온(row[-1])이 빈 값이 아닐 경우 리스트에 추가\n",
    "    if row[-1] != '' :\n",
    "        temp.append(float(row[-1]))\n",
    "\n",
    "import matplotlib.pyplot as plt\n",
    "plt.figure(figsize=(10,5), dpi=300) # 그래프 크기, 해상도 설정\n",
    "plt.plot(temp)\n",
    "plt.show()"
   ]
  },
  {
   "cell_type": "markdown",
   "metadata": {},
   "source": [
    "#### tip3) hist 함수 : 데이터를 히스트그램으로 표현해줌"
   ]
  },
  {
   "cell_type": "code",
   "execution_count": null,
   "metadata": {
    "collapsed": false
   },
   "outputs": [],
   "source": [
    "import matplotlib.pyplot as plt\n",
    "plt.hist([1,2,3,4,4,4,4])\n",
    "plt.show()"
   ]
  },
  {
   "cell_type": "markdown",
   "metadata": {},
   "source": [
    "### 2) 최고 기온 데이터 시각화하기"
   ]
  },
  {
   "cell_type": "code",
   "execution_count": null,
   "metadata": {
    "collapsed": false
   },
   "outputs": [],
   "source": [
    "import matplotlib.pyplot as plt\n",
    "import csv\n",
    "# 기온 데이터 읽어오기\n",
    "f = open('seoul.csv')\n",
    "data = csv.reader(f)\n",
    "next(data) # 헤더 부분 skip\n",
    "\n",
    "result = []\n",
    "for row in data :\n",
    "    # 최고 기온 데이터 열이 비어있지 않으면 리스트에 추가\n",
    "    if row[-1] != '' : \n",
    "        result.append(float(row[-1]))\n",
    "        \n",
    "plt.style.use('ggplot')\n",
    "plt.figure(figsize=(5,3), dpi=300)\n",
    "# 히스토그램으로 표현하기(bins : 빈도 구간 설정)\n",
    "plt.hist(result, bins= 100)\n",
    "plt.show()"
   ]
  },
  {
   "cell_type": "markdown",
   "metadata": {},
   "source": [
    "### 3) 1월과 8월의 데이터 시각화하기"
   ]
  },
  {
   "cell_type": "code",
   "execution_count": null,
   "metadata": {
    "collapsed": false
   },
   "outputs": [],
   "source": [
    "import matplotlib.pyplot as plt\n",
    "import csv\n",
    "# 기온 데이터 읽어오기\n",
    "f = open('seoul.csv')\n",
    "data = csv.reader(f)\n",
    "jan = [] # 1월 데이터 저장 리스트\n",
    "aug = [] # 8월 데이터 저장 리스트\n",
    "for row in data :\n",
    "    # row[0] : 날짜 데이터('1907-10-01')\n",
    "    if row[-1] != '' and row[0].split('-')[1] == '01' :\n",
    "        jan.append(float(row[-1]))\n",
    "    if row[-1] != '' and row[0].split('-')[1] == '08' :\n",
    "        aug.append(float(row[-1]))\n",
    "        \n",
    "plt.figure(figsize=(5,3), dpi=300)        \n",
    "plt.hist(jan, bins = 100)\n",
    "plt.hist(aug, bins = 100)\n",
    "plt.show()"
   ]
  },
  {
   "cell_type": "markdown",
   "metadata": {},
   "source": [
    "### 4) 여름과 겨울 기온 분포 시각화해보기"
   ]
  },
  {
   "cell_type": "code",
   "execution_count": null,
   "metadata": {
    "collapsed": false
   },
   "outputs": [],
   "source": [
    "import matplotlib.pyplot as plt\n",
    "import csv\n",
    "summer = []\n",
    "winter = []\n",
    "f = open('seoul.csv')\n",
    "data = csv.reader(f)\n",
    "next(data)\n",
    "for row in data :\n",
    "    if row[-1] != '' and (row[0].split('-')[1] == '07' or row[0].split('-')[1] == '08' ):\n",
    "        summer.append(float(row[-1]))\n",
    "    if row[-1] != '' and row[0].split('-')[1] in ('12','01','02') :\n",
    "        winter.append(float(row[-1]))\n",
    "        \n",
    "plt.figure(figsize=(10,3), dpi=300)\n",
    "plt.hist(summer, bins = 100)\n",
    "plt.hist(winter, bins = 100)\n",
    "plt.show()"
   ]
  },
  {
   "cell_type": "markdown",
   "metadata": {},
   "source": [
    "#### tip)  boxplot 함수 : 데이터를 boxplot(상자그림)으로 표현해줌"
   ]
  },
  {
   "cell_type": "code",
   "execution_count": null,
   "metadata": {
    "collapsed": false
   },
   "outputs": [],
   "source": [
    "import matplotlib.pyplot as plt\n",
    "plt.boxplot([1,2,3,4,7])\n",
    "plt.show()"
   ]
  },
  {
   "cell_type": "markdown",
   "metadata": {},
   "source": [
    "### 5) 1월과 8월의 기온 분포 boxplot으로 시각화해보기"
   ]
  },
  {
   "cell_type": "code",
   "execution_count": null,
   "metadata": {
    "collapsed": false
   },
   "outputs": [],
   "source": [
    "import matplotlib.pyplot as plt\n",
    "import csv\n",
    "# 기온 데이터 읽어오기\n",
    "f = open('seoul.csv')\n",
    "data = csv.reader(f)\n",
    "next(data)\n",
    "jan = [] # 1월 데이터 저장 리스트\n",
    "aug = [] # 8월 데이터 저장 리스트\n",
    "for row in data :\n",
    "    # row[0] : 날짜 데이터('1907-10-01')\n",
    "    if row[-1] != '' and row[0].split('-')[1] == '01' :\n",
    "        jan.append(float(row[-1]))\n",
    "    if row[-1] != '' and row[0].split('-')[1] == '08' :\n",
    "        aug.append(float(row[-1]))\n",
    "\n",
    "plt.figure(figsize=(10,5), dpi=300)        \n",
    "plt.boxplot([jan, aug])\n",
    "plt.xticks((1,2), ['Jan','Aug'])\n",
    "plt.show()"
   ]
  },
  {
   "cell_type": "markdown",
   "metadata": {},
   "source": [
    "### 6) 월별 최고 기온의 분포는?"
   ]
  },
  {
   "cell_type": "code",
   "execution_count": null,
   "metadata": {
    "collapsed": false
   },
   "outputs": [],
   "source": [
    "import matplotlib.pyplot as plt\n",
    "import csv\n",
    "f = open('seoul.csv')\n",
    "data = csv.reader(f)\n",
    "next(data)\n",
    "month = [[],[],[],[],[],[],[],[],[],[],[],[]] #12개\n",
    "\n",
    "for row in data :\n",
    "    if row[-1] != '' :\n",
    "        month[int(row[0].split('-')[1])-1].append(float(row[-1]))\n",
    "        \n",
    "plt.style.use('ggplot')\n",
    "plt.figure(figsize=(10,5), dpi=300) # 그래프 해상도\n",
    "plt.boxplot(month, showfliers=False)\n",
    "plt.show()"
   ]
  },
  {
   "cell_type": "markdown",
   "metadata": {},
   "source": [
    "### 7) 8월의 최저 기온의 분포는?"
   ]
  },
  {
   "cell_type": "code",
   "execution_count": null,
   "metadata": {
    "collapsed": false
   },
   "outputs": [],
   "source": [
    "import matplotlib.pyplot as plt\n",
    "import csv\n",
    "\n",
    "f = open('seoul.csv')\n",
    "data = csv.reader(f)\n",
    "next(data)\n",
    "\n",
    "month = []\n",
    "for i in range(31) : \n",
    "    month.append([])\n",
    "\n",
    "for row in data :\n",
    "    if row[-1] != '' :\n",
    "        if row[0].split('-')[1] == '08':\n",
    "            month[int(row[0].split('-')[2])-1].append(float(row[-]))\n",
    "        \n",
    "plt.style.use('ggplot')\n",
    "plt.figure(figsize=(10,5), dpi=300)\n",
    "plt.boxplot(month, showfliers=False)\n",
    "plt.xticks(rotation = 45) # x축 내용 45도 회전하기\n",
    "plt.show()"
   ]
  },
  {
   "cell_type": "markdown",
   "metadata": {},
   "source": [
    "### 8) 일교차가 가장 큰 달은?"
   ]
  },
  {
   "cell_type": "code",
   "execution_count": null,
   "metadata": {
    "collapsed": false
   },
   "outputs": [],
   "source": [
    "import matplotlib.pyplot as plt\n",
    "import csv\n",
    "\n",
    "f = open('seoul.csv')\n",
    "data = csv.reader(f)\n",
    "month = [[],[],[],[],[],[],[],[],[],[],[],[]] #12개\n",
    "next(data)\n",
    "for row in data :\n",
    "    if row[-1] != '' and row[-2] != '' :\n",
    "        month[int(row[0].split('-')[1])-1].append(float(row[-1]) - float(row[-2]))\n",
    "\n",
    "plt.style.use('ggplot')\n",
    "plt.figure(figsize=(10,3), dpi=300)\n",
    "plt.boxplot(month, showfliers=False)\n",
    "plt.show()"
   ]
  },
  {
   "cell_type": "code",
   "execution_count": null,
   "metadata": {
    "collapsed": false
   },
   "outputs": [],
   "source": [
    "result = []\n",
    "for i in range(12) :\n",
    "    result.append(sum(month[i])/len(month[i]))\n",
    "\n",
    "plt.figure(figsize=(10,3), dpi=300)\n",
    "plt.xticks(range(1,13))\n",
    "plt.plot(range(1,13), result)\n",
    "plt.show()"
   ]
  },
  {
   "cell_type": "markdown",
   "metadata": {},
   "source": [
    "### 9) 연평균 기온 변화 살펴보기"
   ]
  },
  {
   "cell_type": "code",
   "execution_count": null,
   "metadata": {
    "collapsed": false
   },
   "outputs": [],
   "source": [
    "import matplotlib.pyplot as plt\n",
    "import csv\n",
    "result = []\n",
    "year_list = []\n",
    "f = open('seoul.csv')\n",
    "data = csv.reader(f)\n",
    "next(data)\n",
    "year = 1907\n",
    "s = 0\n",
    "cnt = 0\n",
    "for row in data :\n",
    "    if row[-3] != '' :\n",
    "        cnt += 1\n",
    "        s += float(row[-3])\n",
    "    if row[0].split('-')[0] != year and cnt > 360:\n",
    "        result.append(s/cnt)\n",
    "        year_list.append(year)\n",
    "        year = row[0].split('-')[0]\n",
    "        s = 0\n",
    "        cnt = 0\n",
    "\n",
    "plt.figure(figsize=(10,3), dpi=300) # 그래프 해상도\n",
    "plt.rc('font', family = 'AppleGothic') # Windows : Malgun Gothic\n",
    "plt.title('1908년부터 서울의 연평균기온 변화 그래프') # 제목 넣기\n",
    "plt.style.use('ggplot') # 그래프 스타일\n",
    "plt.plot(year_list, result, 'r') # 꺽은선 그래프로 그리기\n",
    "plt.show()"
   ]
  },
  {
   "cell_type": "code",
   "execution_count": null,
   "metadata": {
    "collapsed": true
   },
   "outputs": [],
   "source": []
  }
 ],
 "metadata": {
  "kernelspec": {
   "display_name": "Python 3",
   "language": "python",
   "name": "python3"
  },
  "language_info": {
   "codemirror_mode": {
    "name": "ipython",
    "version": 3
   },
   "file_extension": ".py",
   "mimetype": "text/x-python",
   "name": "python",
   "nbconvert_exporter": "python",
   "pygments_lexer": "ipython3",
   "version": "3.6.0"
  }
 },
 "nbformat": 4,
 "nbformat_minor": 2
}
