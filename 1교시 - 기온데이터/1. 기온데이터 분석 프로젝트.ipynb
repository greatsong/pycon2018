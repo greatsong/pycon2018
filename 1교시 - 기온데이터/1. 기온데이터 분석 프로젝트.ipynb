{
 "cells": [
  {
   "cell_type": "markdown",
   "metadata": {},
   "source": [
    "## [ 프로젝트 1 - 기온데이터 분석 ]\n",
    "### 1) 데이터 불러오기"
   ]
  },
  {
   "cell_type": "code",
   "execution_count": null,
   "metadata": {},
   "outputs": [],
   "source": [
    "import csv\n",
    "f = open('seoul_180803.csv')\n",
    "data = csv.reader(f)\n",
    "\n",
    "for row in data :\n",
    "    print(row[-1])"
   ]
  },
  {
   "cell_type": "markdown",
   "metadata": {},
   "source": [
    "###  << 몸풀기 문제 : 기상 관측 이래 가장 더웠던 날은 몇 도였을까요? >>"
   ]
  },
  {
   "cell_type": "code",
   "execution_count": null,
   "metadata": {},
   "outputs": [],
   "source": [
    "import csv\n",
    "f = open('seoul_180803.csv')\n",
    "data = csv.reader(f)\n",
    "next(data)\n",
    "memo = 0\n",
    "memo_date = ''\n",
    "cnt = 0\n",
    "for row in data :\n",
    "    if row[-1] != '' :\n",
    "        if float(row[-1]) > memo :\n",
    "            memo = float(row[-1])\n",
    "            memo_date = row[0]\n",
    "            \n",
    "print(memo, memo_date)"
   ]
  },
  {
   "cell_type": "markdown",
   "metadata": {},
   "source": [
    "#### tip1) split 함수 : 원하는 문자를 기준으로 문자열을 나누어 리스트로 만들어줌"
   ]
  },
  {
   "cell_type": "code",
   "execution_count": null,
   "metadata": {},
   "outputs": [],
   "source": [
    "s = '2018 python conference'\n",
    "print(s.split())"
   ]
  },
  {
   "cell_type": "code",
   "execution_count": null,
   "metadata": {},
   "outputs": [],
   "source": [
    "date = '1907-10-01'\n",
    "split_date = date.split('-')\n",
    "print(split_date[1])\n",
    "# 월만 출력하기"
   ]
  },
  {
   "cell_type": "code",
   "execution_count": null,
   "metadata": {},
   "outputs": [],
   "source": [
    "import csv\n",
    "f = open('seoul_180803.csv')\n",
    "data = csv.reader(f)\n",
    "next(data)\n",
    "memo = 0\n",
    "memo_date = ''\n",
    "cnt = 0\n",
    "for row in data :\n",
    "    if row[-1] != '' :\n",
    "        if int(row[0].split('-')[0]) < 1995 and float(row[-1]) > memo :\n",
    "            memo = float(row[-1])\n",
    "            memo_date = row[0]\n",
    "            \n",
    "print(memo, memo_date)"
   ]
  },
  {
   "cell_type": "code",
   "execution_count": null,
   "metadata": {},
   "outputs": [],
   "source": [
    "import csv\n",
    "f = open('seoul_180803.csv')\n",
    "data = csv.reader(f)\n",
    "next(data)\n",
    "cnt = 0\n",
    "over_cnt = 0\n",
    "for row in data :\n",
    "    if row[-1] != '' :\n",
    "        cnt = cnt + 1\n",
    "        if float(row[-1]) > 37 :\n",
    "            over_cnt += 1 \n",
    "            print(row[0],row[-1])\n",
    "# print(cnt)\n",
    "# print(over_cnt * 100 / cnt)"
   ]
  },
  {
   "cell_type": "code",
   "execution_count": null,
   "metadata": {},
   "outputs": [],
   "source": [
    "import csv\n",
    "f = open('seoul_180803.csv')\n",
    "data = csv.reader(f)\n",
    "next(data)\n",
    "cnt = 0\n",
    "temp = []\n",
    "for row in data :\n",
    "    date = row[0].split('-')\n",
    "    if row[-1] != '' :\n",
    "        if date[1] == '07' and date[2] == '06' :\n",
    "            cnt = cnt + 1\n",
    "            temp.append(float(row[-1]))\n",
    "\n",
    "import matplotlib.pyplot as plt\n",
    "plt.plot(temp)\n",
    "plt.show()"
   ]
  },
  {
   "cell_type": "markdown",
   "metadata": {},
   "source": [
    "#### tip2) plot 함수 : 데이터를 꺽은선 그래프로 표현해줌"
   ]
  },
  {
   "cell_type": "code",
   "execution_count": null,
   "metadata": {},
   "outputs": [],
   "source": [
    "import matplotlib.pyplot as plt\n",
    "plt.plot([1,2,3,40])\n",
    "plt.show()"
   ]
  },
  {
   "cell_type": "markdown",
   "metadata": {},
   "source": [
    "#### tip3) hist 함수 : 데이터를 히스트그램으로 표현해줌"
   ]
  },
  {
   "cell_type": "code",
   "execution_count": null,
   "metadata": {},
   "outputs": [],
   "source": [
    "import matplotlib.pyplot as plt\n",
    "plt.hist([1,2,3,4,4,4,4])\n",
    "plt.show()"
   ]
  },
  {
   "cell_type": "code",
   "execution_count": null,
   "metadata": {},
   "outputs": [],
   "source": [
    "import matplotlib.pyplot as plt\n",
    "import random\n",
    "dice =[]\n",
    "for i in range(100) : \n",
    "    dice.append(random.randint(1,6))\n",
    "plt.hist(dice, bins = 2)\n",
    "plt.show()"
   ]
  },
  {
   "cell_type": "markdown",
   "metadata": {},
   "source": [
    "### 2) 평균 기온 데이터 시각화하기"
   ]
  },
  {
   "cell_type": "code",
   "execution_count": null,
   "metadata": {},
   "outputs": [],
   "source": [
    "import matplotlib.pyplot as plt\n",
    "import csv\n",
    "f = open('seoul_180803.csv')\n",
    "data = csv.reader(f)\n",
    "next(data)\n",
    "\n",
    "result = []\n",
    "for row in data :\n",
    "    if row[-3] != '' :\n",
    "        result.append(float(row[-3]))\n",
    "\n",
    "plt.hist(result, bins = 100)\n",
    "plt.show()"
   ]
  },
  {
   "cell_type": "markdown",
   "metadata": {},
   "source": [
    "#### tip) 조금 더 예쁘게 표현하기"
   ]
  },
  {
   "cell_type": "code",
   "execution_count": null,
   "metadata": {},
   "outputs": [],
   "source": [
    "import matplotlib.pyplot as plt\n",
    "import csv\n",
    "result = []\n",
    "f = open('seoul_180803.csv')\n",
    "data = csv.reader(f)\n",
    "next(data)\n",
    "for row in data :\n",
    "    if row[-3] != '' :\n",
    "        result.append(float(row[-3]))\n",
    "        \n",
    "plt.style.use('ggplot')\n",
    "plt.figure(dpi=300)\n",
    "\n",
    "plt.hist(result, bins=100)\n",
    "plt.show()"
   ]
  },
  {
   "cell_type": "markdown",
   "metadata": {},
   "source": [
    "#### mission1) 000000 시각화해보기"
   ]
  },
  {
   "cell_type": "code",
   "execution_count": null,
   "metadata": {},
   "outputs": [],
   "source": [
    "import matplotlib.pyplot as plt\n",
    "import csv\n",
    "result = []\n",
    "f = open('seoul_180803.csv')\n",
    "data = csv.reader(f)\n",
    "next(data)\n",
    "\n",
    "for row in data :\n",
    "    if row[-3] != '' and row[0].split('-')[1] == '07' :\n",
    "        result.append(float(row[-3]))\n",
    "        \n",
    "plt.hist(result, bins = 40)\n",
    "plt.show()"
   ]
  },
  {
   "cell_type": "markdown",
   "metadata": {},
   "source": [
    "#### mission2) 000000 시각화해보기"
   ]
  },
  {
   "cell_type": "code",
   "execution_count": null,
   "metadata": {},
   "outputs": [],
   "source": [
    "import matplotlib.pyplot as plt\n",
    "import csv\n",
    "summer = []\n",
    "winter = []\n",
    "f = open('seoul_180803.csv')\n",
    "data = csv.reader(f)\n",
    "next(data)\n",
    "for row in data :\n",
    "    if row[-3] != '' and (row[0].split('-')[1] == '07' or row[0].split('-')[1] == '08' ):\n",
    "        summer.append(float(row[-3]))\n",
    "    if row[-3] != '' and row[0].split('-')[1] == '01' :\n",
    "        winter.append(float(row[-3]))\n",
    "        \n",
    "plt.figure(dpi=300)\n",
    "plt.hist(summer, bins = 100)\n",
    "plt.hist(winter, bins = 100)\n",
    "plt.show()"
   ]
  },
  {
   "cell_type": "markdown",
   "metadata": {},
   "source": [
    "#### tip)  boxplot 함수 : 데이터를 boxplot(상자그림)으로 표현해줌"
   ]
  },
  {
   "cell_type": "code",
   "execution_count": null,
   "metadata": {},
   "outputs": [],
   "source": [
    "import matplotlib.pyplot as plt\n",
    "plt.boxplot([1,2,3,4,7])\n",
    "plt.show()"
   ]
  },
  {
   "cell_type": "markdown",
   "metadata": {},
   "source": [
    "#### mission3) boxplot으로 시각화해보기"
   ]
  },
  {
   "cell_type": "code",
   "execution_count": null,
   "metadata": {},
   "outputs": [],
   "source": [
    "import matplotlib.pyplot as plt\n",
    "import csv\n",
    "summer = []\n",
    "winter = []\n",
    "f = open('seoul_180803.csv')\n",
    "data = csv.reader(f)\n",
    "next(data)\n",
    "\n",
    "for row in data :\n",
    "    if row[-3] != '' and row[0].split('-')[1] == '07' :\n",
    "        summer.append(float(row[-3]))\n",
    "    if row[-3] != '' and row[0].split('-')[1] == '01' :\n",
    "        winter.append(float(row[-3]))\n",
    "        \n",
    "plt.boxplot([summer,winter])\n",
    "plt.show()"
   ]
  },
  {
   "cell_type": "markdown",
   "metadata": {},
   "source": [
    "#### 4) 000000 시각화하기"
   ]
  },
  {
   "cell_type": "code",
   "execution_count": null,
   "metadata": {},
   "outputs": [],
   "source": [
    "import matplotlib.pyplot as plt\n",
    "import csv\n",
    "f = open('seoul_180803.csv')\n",
    "data = csv.reader(f)\n",
    "next(data)\n",
    "month = [[],[],[],[],[],[],[],[],[],[],[],[]] #12개\n",
    "\n",
    "for row in data :\n",
    "    if row[-1] != '' and row[-2] != '' :\n",
    "        month[int(row[0].split('-')[1])-1].append(float(row[-1]))\n",
    "        month[int(row[0].split('-')[1])-1].append(float(row[-2]))\n",
    "        month[int(row[0].split('-')[1])-1].append(float(row[-3]))\n",
    "        \n",
    "plt.style.use('ggplot')\n",
    "plt.figure(dpi=300)\n",
    "plt.boxplot(month, showfliers=False)\n",
    "plt.show()"
   ]
  },
  {
   "cell_type": "code",
   "execution_count": null,
   "metadata": {},
   "outputs": [],
   "source": [
    "import matplotlib.pyplot as plt\n",
    "import csv\n",
    "\n",
    "f = open('seoul_180803.csv')\n",
    "data = csv.reader(f)\n",
    "next(data)\n",
    "\n",
    "month = []\n",
    "for i in range(31) : \n",
    "    month.append([])\n",
    "\n",
    "for row in data :\n",
    "    if row[-1] != '' :\n",
    "        if row[0].split('-')[1] == '08':\n",
    "            month[int(row[0].split('-')[2])-1].append(float(row[-1]))\n",
    "        \n",
    "plt.style.use('ggplot')\n",
    "plt.figure(dpi=300)\n",
    "plt.boxplot(month, showfliers=False)\n",
    "plt.xticks(rotation = 45) # x축 내용 45도 회전하기\n",
    "plt.show()"
   ]
  },
  {
   "cell_type": "code",
   "execution_count": null,
   "metadata": {},
   "outputs": [],
   "source": [
    "import matplotlib.pyplot as plt\n",
    "import csv\n",
    "\n",
    "f = open('seoul_180803.csv')\n",
    "data = csv.reader(f)\n",
    "next(data)\n",
    "\n",
    "month = [[],[],[],[],[],[],[],[],[],[],[],[]] #12개\n",
    "\n",
    "for row in data :\n",
    "    if row[-1] != '' and row[-2] != '' :\n",
    "        for i in range(1,3) :\n",
    "            month[int(row[0].split('-')[1])-1].append(float(row[-i]))\n",
    "    \n",
    "plt.style.use('ggplot')\n",
    "plt.figure(dpi=300)\n",
    "plt.boxplot(month, showfliers=False)\n",
    "plt.show()"
   ]
  },
  {
   "cell_type": "markdown",
   "metadata": {},
   "source": [
    "#### 5) 000000 시각화하기"
   ]
  },
  {
   "cell_type": "code",
   "execution_count": null,
   "metadata": {},
   "outputs": [],
   "source": [
    "import matplotlib.pyplot as plt\n",
    "import csv\n",
    "\n",
    "f = open('seoul_180803.csv')\n",
    "data = csv.reader(f)\n",
    "month = [[],[],[],[],[],[],[],[],[],[],[],[]] #12개\n",
    "next(data)\n",
    "for row in data :\n",
    "    if row[-1] != '' and row[-2] != '' :\n",
    "        month[int(row[0].split('-')[1])-1].append(float(row[-1]) - float(row[-2]))\n",
    "\n",
    "plt.style.use('ggplot')\n",
    "plt.figure(dpi=300)\n",
    "plt.boxplot(month)\n",
    "# plt.boxplot(month, showfliers=False)\n",
    "plt.show()"
   ]
  },
  {
   "cell_type": "code",
   "execution_count": null,
   "metadata": {},
   "outputs": [],
   "source": [
    "result = []\n",
    "for i in range(12) :\n",
    "    result.append(sum(month[i])/len(month[i]))\n",
    "\n",
    "plt.xticks(range(1,13))\n",
    "plt.plot(range(1,13), result)\n",
    "plt.show()"
   ]
  },
  {
   "cell_type": "code",
   "execution_count": null,
   "metadata": {},
   "outputs": [],
   "source": [
    "import matplotlib.pyplot as plt\n",
    "import csv\n",
    "result = []\n",
    "year_list = []\n",
    "f = open('seoul_180803.csv')\n",
    "data = csv.reader(f)\n",
    "next(data)\n",
    "year = 1907\n",
    "s = 0\n",
    "cnt = 0\n",
    "for row in data :\n",
    "    if row[-3] != '' :\n",
    "        cnt += 1\n",
    "        s += float(row[-3])\n",
    "    if row[0].split('-')[0] != year and cnt > 360:\n",
    "        result.append(s/cnt)\n",
    "        year_list.append(year)\n",
    "        year = row[0].split('-')[0]\n",
    "        s = 0\n",
    "        cnt = 0\n",
    "plt.style.use('ggplot')\n",
    "plt.figure(dpi=300)\n",
    "plt.plot(year_list, result)\n",
    "plt.show()"
   ]
  },
  {
   "cell_type": "code",
   "execution_count": null,
   "metadata": {
    "collapsed": true
   },
   "outputs": [],
   "source": []
  }
 ],
 "metadata": {
  "kernelspec": {
   "display_name": "Python 3",
   "language": "python",
   "name": "python3"
  },
  "language_info": {
   "codemirror_mode": {
    "name": "ipython",
    "version": 3
   },
   "file_extension": ".py",
   "mimetype": "text/x-python",
   "name": "python",
   "nbconvert_exporter": "python",
   "pygments_lexer": "ipython3",
   "version": "3.6.3"
  }
 },
 "nbformat": 4,
 "nbformat_minor": 2
}
