{
 "cells": [
  {
   "cell_type": "code",
   "execution_count": null,
   "metadata": {
    "collapsed": false
   },
   "outputs": [],
   "source": [
    "from vpython import *\n",
    "# 직육면체 추가\n",
    "box()"
   ]
  },
  {
   "cell_type": "code",
   "execution_count": null,
   "metadata": {
    "collapsed": false
   },
   "outputs": [],
   "source": [
    "from vpython import *\n",
    "# 구(ball), 직육면체(floor) 추가\n",
    "ball = sphere()\n",
    "floor = box()"
   ]
  },
  {
   "cell_type": "code",
   "execution_count": null,
   "metadata": {
    "collapsed": false
   },
   "outputs": [],
   "source": [
    "from vpython import *\n",
    "# 공간(크기, 위치), 색상 설정\n",
    "ball = sphere(radius = 0.5, pos = vector(0,10,0), color = color.red)\n",
    "floor = box(length = 4, height = 0.5, width = 4, color = color.green)"
   ]
  },
  {
   "cell_type": "code",
   "execution_count": null,
   "metadata": {
    "collapsed": false
   },
   "outputs": [],
   "source": [
    "from vpython import *\n",
    "\n",
    "ball = sphere(radius = 0.5, pos = vector(0,10,0), color = color.red)\n",
    "floor = box(length = 4, height = 0.5, width = 4, color = color.green)\n",
    "\n",
    "# 시간 추가\n",
    "dt = 0.01\n",
    "\n",
    "# 초당 100회 실행\n",
    "while True :\n",
    "    rate(100)"
   ]
  },
  {
   "cell_type": "code",
   "execution_count": null,
   "metadata": {
    "collapsed": false
   },
   "outputs": [],
   "source": [
    "from vpython import *\n",
    "\n",
    "ball = sphere(radius = 0.5, pos = vector(0,10,0), color = color.red)\n",
    "floor = box(length = 4, height = 0.5, width = 4, color = color.green)\n",
    "\n",
    "# 속도 추가\n",
    "dt = 0.01\n",
    "ball.velocity = vector(0,-10,0)\n",
    "\n",
    "while True :\n",
    "    rate(100)\n",
    "    # 위치 변화\n",
    "    ball.pos = ball.pos + ball.velocity * dt"
   ]
  },
  {
   "cell_type": "code",
   "execution_count": null,
   "metadata": {
    "collapsed": false
   },
   "outputs": [],
   "source": [
    "from vpython import *\n",
    "\n",
    "ball = sphere(radius = 0.5, pos = vector(0,10,0), color = color.red)\n",
    "floor = box(length = 4, height = 0.5, width = 4, color = color.green)\n",
    "\n",
    "ball.velocity = vector(0,-10,0)\n",
    "dt = 0.01\n",
    "\n",
    "while True :\n",
    "    rate(100)\n",
    "    ball.pos = ball.pos + ball.velocity * dt\n",
    "    # 속도 방향 바꾸기\n",
    "    if ball.pos.y <= 0.75 :\n",
    "        ball.velocity.y = -ball.velocity.y"
   ]
  },
  {
   "cell_type": "code",
   "execution_count": null,
   "metadata": {
    "collapsed": false
   },
   "outputs": [],
   "source": [
    "from vpython import *\n",
    "\n",
    "ball = sphere(radius = 0.5, pos = vector(0,10,0), color = color.red)\n",
    "floor = box(length = 4, height = 0.5, width = 4, color = color.green)\n",
    "\n",
    "# 초기 속도 수정\n",
    "ball.velocity = vector(0,0,0)\n",
    "dt = 0.01\n",
    "\n",
    "while True :\n",
    "    rate(100)\n",
    "    ball.pos = ball.pos + ball.velocity * dt\n",
    "    if ball.pos.y <= 0.75 :\n",
    "        ball.velocity.y = -ball.velocity.y\n",
    "    # 중력가속도 설정\n",
    "    else : \n",
    "        ball.velocity.y = ball.velocity.y + -9.8 * dt"
   ]
  },
  {
   "cell_type": "code",
   "execution_count": null,
   "metadata": {
    "collapsed": false
   },
   "outputs": [],
   "source": [
    "from vpython import *\n",
    "# make_trail 속성 설정\n",
    "ball = sphere(radius = 0.5, pos = vector(-20,4,0), color = color.red, make_trail = True)\n",
    "floor = box(length = 40, height = 0.5, width = 4, color = color.green)\n",
    "# x축 방향으로 속도 설정\n",
    "ball.velocity = vector(0,0,0)\n",
    "dt = 0.01\n",
    "while True :\n",
    "    rate(100)\n",
    "    ball.pos = ball.pos + ball.velocity * dt\n",
    "    if ball.pos.y <= 0.75 :\n",
    "        ball.velocity.y = -ball.velocity.y\n",
    "    else : \n",
    "        ball.velocity.y = ball.velocity.y + -9.8 * dt"
   ]
  },
  {
   "cell_type": "code",
   "execution_count": null,
   "metadata": {
    "collapsed": true
   },
   "outputs": [],
   "source": []
  }
 ],
 "metadata": {
  "kernelspec": {
   "display_name": "VPython",
   "language": "python",
   "name": "vpython"
  },
  "language_info": {
   "codemirror_mode": {
    "name": "ipython",
    "version": 3
   },
   "file_extension": ".py",
   "mimetype": "text/x-python",
   "name": "python",
   "nbconvert_exporter": "python",
   "pygments_lexer": "ipython3",
   "version": "3.6.0"
  }
 },
 "nbformat": 4,
 "nbformat_minor": 2
}
